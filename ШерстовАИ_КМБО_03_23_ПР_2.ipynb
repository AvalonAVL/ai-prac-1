{
  "nbformat": 4,
  "nbformat_minor": 0,
  "metadata": {
    "colab": {
      "provenance": [],
      "authorship_tag": "ABX9TyNE9Qao2RTFv+LYMlRQnyFh"
    },
    "kernelspec": {
      "name": "python3",
      "display_name": "Python 3"
    },
    "language_info": {
      "name": "python"
    }
  },
  "cells": [
    {
      "cell_type": "markdown",
      "source": [
        "# ШерстовАИ_КМБО-03-23_ПР_2"
      ],
      "metadata": {
        "id": "L3lzCTta7ev4"
      }
    },
    {
      "cell_type": "markdown",
      "source": [
        "# 1.3.1\n",
        "Создать 8x8 матрицу и заполнить её в шахматном порядке нулями и\n",
        "единицами."
      ],
      "metadata": {
        "id": "SlmoN_Cd7hbL"
      }
    },
    {
      "cell_type": "code",
      "source": [
        "import numpy as np\n",
        "a = [(i % 2 + i // 8) % 2 for i in range(64)]\n",
        "a = np.array(a).reshape(8, 8)\n",
        "print(a)"
      ],
      "metadata": {
        "colab": {
          "base_uri": "https://localhost:8080/"
        },
        "id": "wDdU0V8g7mQK",
        "outputId": "d9f48119-8c0d-4ea4-aa4e-6fea44e0164c"
      },
      "execution_count": 1,
      "outputs": [
        {
          "output_type": "stream",
          "name": "stdout",
          "text": [
            "[[0 1 0 1 0 1 0 1]\n",
            " [1 0 1 0 1 0 1 0]\n",
            " [0 1 0 1 0 1 0 1]\n",
            " [1 0 1 0 1 0 1 0]\n",
            " [0 1 0 1 0 1 0 1]\n",
            " [1 0 1 0 1 0 1 0]\n",
            " [0 1 0 1 0 1 0 1]\n",
            " [1 0 1 0 1 0 1 0]]\n"
          ]
        }
      ]
    },
    {
      "cell_type": "markdown",
      "source": [
        "# 1.3.2\n",
        "Создать 5x5 матрицу со значениями в строках от 0 до 4. Для создания необходимо использовать функцию ```arange```."
      ],
      "metadata": {
        "id": "b-ZLKjCq7s0T"
      }
    },
    {
      "cell_type": "code",
      "source": [
        "import numpy as np\n",
        "a = np.arange(4)\n",
        "a = np.tile(a, (5, 1))\n",
        "print(a)"
      ],
      "metadata": {
        "colab": {
          "base_uri": "https://localhost:8080/"
        },
        "id": "4v_Q2BjC7zGX",
        "outputId": "ffe38c9d-4828-42be-f01c-dad77584dff9"
      },
      "execution_count": 2,
      "outputs": [
        {
          "output_type": "stream",
          "name": "stdout",
          "text": [
            "[[0 1 2 3]\n",
            " [0 1 2 3]\n",
            " [0 1 2 3]\n",
            " [0 1 2 3]\n",
            " [0 1 2 3]]\n"
          ]
        }
      ]
    },
    {
      "cell_type": "markdown",
      "source": [
        "# 1.3.3\n",
        "Создать массив 3x3x3 со случайными значениями."
      ],
      "metadata": {
        "id": "x4ZFKsJN8QK6"
      }
    },
    {
      "cell_type": "code",
      "source": [
        "import numpy as np\n",
        "a = np.random.randint(10, size=27).reshape(3, 3, 3)\n",
        "print(a)"
      ],
      "metadata": {
        "colab": {
          "base_uri": "https://localhost:8080/"
        },
        "id": "w7KeWK1Z8TJS",
        "outputId": "8cb252fa-dbab-4f0d-ebd9-045ec7573d64"
      },
      "execution_count": 3,
      "outputs": [
        {
          "output_type": "stream",
          "name": "stdout",
          "text": [
            "[[[1 3 6]\n",
            "  [7 0 9]\n",
            "  [3 5 4]]\n",
            "\n",
            " [[6 0 9]\n",
            "  [7 8 9]\n",
            "  [0 0 8]]\n",
            "\n",
            " [[5 3 3]\n",
            "  [7 3 3]\n",
            "  [1 1 4]]]\n"
          ]
        }
      ]
    },
    {
      "cell_type": "markdown",
      "source": [
        "# 1.3.4\n",
        "Создать матрицу с 0 внутри, и 1 на границах."
      ],
      "metadata": {
        "id": "A9Eu1S448cRA"
      }
    },
    {
      "cell_type": "code",
      "source": [
        "import numpy as np\n",
        "a = np.array([0 for i in range(25)]).reshape(5, 5)\n",
        "for i in range(len(a)):\n",
        "  for j in range(len(a[0])):\n",
        "    if i == 0 or i == len(a) - 1 or j == 0 or j == len(a[0]) - 1:\n",
        "      a[i][j] = 1\n",
        "print(a)"
      ],
      "metadata": {
        "colab": {
          "base_uri": "https://localhost:8080/"
        },
        "id": "3YbGB8uu8gcL",
        "outputId": "58e5e88e-28af-41bc-8dca-f823e3efa00b"
      },
      "execution_count": 4,
      "outputs": [
        {
          "output_type": "stream",
          "name": "stdout",
          "text": [
            "[[1 1 1 1 1]\n",
            " [1 0 0 0 1]\n",
            " [1 0 0 0 1]\n",
            " [1 0 0 0 1]\n",
            " [1 1 1 1 1]]\n"
          ]
        }
      ]
    },
    {
      "cell_type": "markdown",
      "source": [
        "# 1.3.5\n",
        "Создайте массив и отсортируйте его по убыванию."
      ],
      "metadata": {
        "id": "MdUHm7gF80sl"
      }
    },
    {
      "cell_type": "code",
      "source": [
        "import numpy as np\n",
        "a = np.random.randint(10, size=15)\n",
        "print(a)\n",
        "a = np.sort(a)[::-1]\n",
        "print(a)"
      ],
      "metadata": {
        "colab": {
          "base_uri": "https://localhost:8080/"
        },
        "id": "-UVVy8_x831K",
        "outputId": "d578e7f4-94f0-491f-d3d8-12115386ddb9"
      },
      "execution_count": 5,
      "outputs": [
        {
          "output_type": "stream",
          "name": "stdout",
          "text": [
            "[0 3 1 7 9 5 0 0 3 2 4 7 3 6 7]\n",
            "[9 7 7 7 6 5 4 3 3 3 2 1 0 0 0]\n"
          ]
        }
      ]
    },
    {
      "cell_type": "markdown",
      "source": [
        "# 1.3.6\n",
        "Создайте матрицу, выведите ее форму, размер и размерность."
      ],
      "metadata": {
        "id": "z2vpo4hy9KlD"
      }
    },
    {
      "cell_type": "code",
      "source": [
        "import numpy as np\n",
        "a = np.random.randint(10, size=30).reshape(5, 6)\n",
        "print(a, '\\n')\n",
        "print(\"Форма:\", a.shape)\n",
        "print(\"Размер:\", a.size)\n",
        "print(\"Размерность:\", a.ndim)"
      ],
      "metadata": {
        "colab": {
          "base_uri": "https://localhost:8080/"
        },
        "id": "G6lrddEL9Oh4",
        "outputId": "c12bd27a-4c98-4f55-ccc5-3921fbec1c53"
      },
      "execution_count": 6,
      "outputs": [
        {
          "output_type": "stream",
          "name": "stdout",
          "text": [
            "[[9 1 2 2 2 8]\n",
            " [2 7 5 3 5 0]\n",
            " [6 7 2 8 2 3]\n",
            " [7 5 4 1 3 1]\n",
            " [8 8 7 6 6 1]] \n",
            "\n",
            "Форма: (5, 6)\n",
            "Размер: 30\n",
            "Размерность: 2\n"
          ]
        }
      ]
    },
    {
      "cell_type": "markdown",
      "source": [
        "# 2.3.1\n",
        "Найдите евклидово расстояние между двумя Series (точками) a и b, не\n",
        "используя встроенную формулу."
      ],
      "metadata": {
        "id": "isloEoHA9axJ"
      }
    },
    {
      "cell_type": "code",
      "source": [
        "import pandas as pd\n",
        "a = pd.Series(map(float, input(\"Координаты первой точки: \").split()))\n",
        "b = pd.Series(map(float, input(\"Координаты второй точки: \").split()))\n",
        "distance = 0\n",
        "for i in range(len(a)):\n",
        "  distance += (a[i] - b[i]) ** 2\n",
        "distance **= 0.5\n",
        "print(distance)"
      ],
      "metadata": {
        "colab": {
          "base_uri": "https://localhost:8080/"
        },
        "id": "4x8j-vEb9fme",
        "outputId": "51ea883d-af8a-43db-a2ed-283b545b93e8"
      },
      "execution_count": 8,
      "outputs": [
        {
          "output_type": "stream",
          "name": "stdout",
          "text": [
            "Координаты первой точки: 0 3\n",
            "Координаты второй точки: 4 0\n",
            "5.0\n"
          ]
        }
      ]
    },
    {
      "cell_type": "markdown",
      "source": [
        "# 2.3.2\n",
        "Найдите в Интернете ссылку на любой csv файл и сформируйте из него\n",
        "фрейм данных (например, коллекцию фреймов данных можно найти\n",
        "здесь: https://github.com/akmand/datasets)."
      ],
      "metadata": {
        "id": "FwHbB5ps9vP5"
      }
    },
    {
      "cell_type": "code",
      "source": [
        "import pandas as pd\n",
        "url = \"https://raw.githubusercontent.com/AvalonAVL/ai-prac-1/main/AAPL.csv\"\n",
        "dataframe = pd.read_csv(url)\n",
        "print(dataframe)"
      ],
      "metadata": {
        "colab": {
          "base_uri": "https://localhost:8080/"
        },
        "id": "KOjk2VWU92Ke",
        "outputId": "0cc8f524-37aa-4165-8658-cf337d46d2a2"
      },
      "execution_count": 9,
      "outputs": [
        {
          "output_type": "stream",
          "name": "stdout",
          "text": [
            "           Date        Open        High         Low       Close   Adj Close  \\\n",
            "0    2021-01-04  133.520004  133.610001  126.760002  129.410004  127.331696   \n",
            "1    2021-01-05  128.889999  131.740005  128.429993  131.009995  128.905991   \n",
            "2    2021-01-06  127.720001  131.050003  126.379997  126.599998  124.566826   \n",
            "3    2021-01-07  128.360001  131.630005  127.860001  130.919998  128.817444   \n",
            "4    2021-01-08  132.429993  132.630005  130.229996  132.050003  129.929291   \n",
            "..          ...         ...         ...         ...         ...         ...   \n",
            "246  2021-12-23  175.850006  176.850006  175.270004  176.279999  174.518250   \n",
            "247  2021-12-27  177.089996  180.419998  177.070007  180.330002  178.527786   \n",
            "248  2021-12-28  180.160004  181.330002  178.529999  179.289993  177.498138   \n",
            "249  2021-12-29  179.330002  180.630005  178.139999  179.380005  177.587250   \n",
            "250  2021-12-30  179.470001  180.570007  178.089996  178.199997  176.419052   \n",
            "\n",
            "        Volume  \n",
            "0    143301900  \n",
            "1     97664900  \n",
            "2    155088000  \n",
            "3    109578200  \n",
            "4    105158200  \n",
            "..         ...  \n",
            "246   68356600  \n",
            "247   74919600  \n",
            "248   79144300  \n",
            "249   62348900  \n",
            "250   59773000  \n",
            "\n",
            "[251 rows x 7 columns]\n"
          ]
        }
      ]
    },
    {
      "cell_type": "markdown",
      "source": [
        "# 2.3.3\n",
        "Проделайте с получившемся из предыдущего задания фреймом данных\n",
        "те же действия, что и в примерах 2.2.5-2.2.7:\n",
        "Пронализировать характеристики фрейма данных. <br>\n",
        "Выберите индивидуальные данные или срезы фрейма данных. <br>\n",
        "Требуется отобрать строки фрейма данных на основе некоторого\n",
        "условия. <br> Необходимо сформировать новый фрейм данных."
      ],
      "metadata": {
        "id": "NChfTyf498u3"
      }
    },
    {
      "cell_type": "code",
      "source": [
        "import pandas as pd\n",
        "url = \"https://raw.githubusercontent.com/AvalonAVL/ai-prac-1/main/AAPL.csv\"\n",
        "dataframe = pd.read_csv(url)\n",
        "print(dataframe.head(2), end='\\n\\n')\n",
        "print(dataframe.tail(2), end='\\n\\n')\n",
        "print(dataframe.shape, end='\\n\\n')\n",
        "print(dataframe.describe(), end='\\n\\n')\n",
        "print(dataframe.iloc[1:4], end='\\n\\n')\n",
        "print(dataframe[dataframe[\"Volume\"] >= 10 ** 8].head(2))"
      ],
      "metadata": {
        "colab": {
          "base_uri": "https://localhost:8080/"
        },
        "id": "ynQj7A9T9--Q",
        "outputId": "bd053198-6514-4994-913b-c619d98665a2"
      },
      "execution_count": 10,
      "outputs": [
        {
          "output_type": "stream",
          "name": "stdout",
          "text": [
            "         Date        Open        High         Low       Close   Adj Close  \\\n",
            "0  2021-01-04  133.520004  133.610001  126.760002  129.410004  127.331696   \n",
            "1  2021-01-05  128.889999  131.740005  128.429993  131.009995  128.905991   \n",
            "\n",
            "      Volume  \n",
            "0  143301900  \n",
            "1   97664900  \n",
            "\n",
            "           Date        Open        High         Low       Close   Adj Close  \\\n",
            "249  2021-12-29  179.330002  180.630005  178.139999  179.380005  177.587250   \n",
            "250  2021-12-30  179.470001  180.570007  178.089996  178.199997  176.419052   \n",
            "\n",
            "       Volume  \n",
            "249  62348900  \n",
            "250  59773000  \n",
            "\n",
            "(251, 7)\n",
            "\n",
            "             Open        High         Low       Close   Adj Close  \\\n",
            "count  251.000000  251.000000  251.000000  251.000000  251.000000   \n",
            "mean   140.713546  142.200877  139.323545  140.843626  139.061157   \n",
            "std     14.329380   14.599083   14.275668   14.504792   14.538501   \n",
            "min    119.029999  120.400002  116.209999  116.360001  114.662354   \n",
            "25%    128.769997  130.419998  127.099998  128.945000  126.874149   \n",
            "50%    140.070007  142.210007  138.369995  141.110001  139.496124   \n",
            "75%    148.815002  149.794999  147.679993  148.925003  147.167389   \n",
            "max    181.119995  182.130005  178.529999  180.330002  178.527786   \n",
            "\n",
            "             Volume  \n",
            "count  2.510000e+02  \n",
            "mean   9.063005e+07  \n",
            "std    2.920830e+07  \n",
            "min    4.100000e+07  \n",
            "25%    6.907255e+07  \n",
            "50%    8.567190e+07  \n",
            "75%    1.067535e+08  \n",
            "max    1.954327e+08  \n",
            "\n",
            "         Date        Open        High         Low       Close   Adj Close  \\\n",
            "1  2021-01-05  128.889999  131.740005  128.429993  131.009995  128.905991   \n",
            "2  2021-01-06  127.720001  131.050003  126.379997  126.599998  124.566826   \n",
            "3  2021-01-07  128.360001  131.630005  127.860001  130.919998  128.817444   \n",
            "\n",
            "      Volume  \n",
            "1   97664900  \n",
            "2  155088000  \n",
            "3  109578200  \n",
            "\n",
            "         Date        Open        High         Low       Close   Adj Close  \\\n",
            "0  2021-01-04  133.520004  133.610001  126.760002  129.410004  127.331696   \n",
            "2  2021-01-06  127.720001  131.050003  126.379997  126.599998  124.566826   \n",
            "\n",
            "      Volume  \n",
            "0  143301900  \n",
            "2  155088000  \n"
          ]
        }
      ]
    },
    {
      "cell_type": "markdown",
      "source": [
        "# 3.3.2\n",
        "Загрузить фрейм данных по ссылке:\n",
        "https://raw.githubusercontent.com/akmand/datasets/master/iris.csv.\n",
        "Необходимо выполнить нормализацию первого числового признака\n",
        "(```sepal_length_cm```) с использованием минимаксного преобразования, а\n",
        "второго (```sepal_width_cm```) с задействованием z-масштабирования."
      ],
      "metadata": {
        "id": "oJcPwNbe-ZN7"
      }
    },
    {
      "cell_type": "code",
      "source": [
        "import pandas as pd\n",
        "import numpy as np\n",
        "from sklearn.preprocessing import MinMaxScaler, StandardScaler\n",
        "url = \"https://raw.githubusercontent.com/akmand/datasets/master/iris.csv\"\n",
        "dataframe = pd.read_csv(url)\n",
        "minmax_scale = MinMaxScaler(feature_range = (0, 1))\n",
        "dataframe['sepal_length_cm'] = minmax_scale.fit_transform(np.array(\n",
        "    dataframe['sepal_length_cm']).reshape(-1, 1))\n",
        "z_scale = StandardScaler()\n",
        "dataframe['sepal_width_cm'] = z_scale.fit_transform(np.array(\n",
        "    dataframe['sepal_width_cm']).reshape(-1, 1))\n",
        "dataframe"
      ],
      "metadata": {
        "colab": {
          "base_uri": "https://localhost:8080/",
          "height": 424
        },
        "id": "yFQv1OrS-jv1",
        "outputId": "4afb46d0-d01c-4834-d69e-21f4f047add0"
      },
      "execution_count": 20,
      "outputs": [
        {
          "output_type": "execute_result",
          "data": {
            "text/plain": [
              "     sepal_length_cm  sepal_width_cm  petal_length_cm  petal_width_cm  \\\n",
              "0           0.222222        1.032057              1.4             0.2   \n",
              "1           0.166667       -0.124958              1.4             0.2   \n",
              "2           0.111111        0.337848              1.3             0.2   \n",
              "3           0.083333        0.106445              1.5             0.2   \n",
              "4           0.194444        1.263460              1.4             0.2   \n",
              "..               ...             ...              ...             ...   \n",
              "145         0.666667       -0.124958              5.2             2.3   \n",
              "146         0.555556       -1.281972              5.0             1.9   \n",
              "147         0.611111       -0.124958              5.2             2.0   \n",
              "148         0.527778        0.800654              5.4             2.3   \n",
              "149         0.444444       -0.124958              5.1             1.8   \n",
              "\n",
              "       species  \n",
              "0       setosa  \n",
              "1       setosa  \n",
              "2       setosa  \n",
              "3       setosa  \n",
              "4       setosa  \n",
              "..         ...  \n",
              "145  virginica  \n",
              "146  virginica  \n",
              "147  virginica  \n",
              "148  virginica  \n",
              "149  virginica  \n",
              "\n",
              "[150 rows x 5 columns]"
            ],
            "text/html": [
              "\n",
              "  <div id=\"df-8bc24c33-0352-409b-82fc-6ae7ddbd3b44\" class=\"colab-df-container\">\n",
              "    <div>\n",
              "<style scoped>\n",
              "    .dataframe tbody tr th:only-of-type {\n",
              "        vertical-align: middle;\n",
              "    }\n",
              "\n",
              "    .dataframe tbody tr th {\n",
              "        vertical-align: top;\n",
              "    }\n",
              "\n",
              "    .dataframe thead th {\n",
              "        text-align: right;\n",
              "    }\n",
              "</style>\n",
              "<table border=\"1\" class=\"dataframe\">\n",
              "  <thead>\n",
              "    <tr style=\"text-align: right;\">\n",
              "      <th></th>\n",
              "      <th>sepal_length_cm</th>\n",
              "      <th>sepal_width_cm</th>\n",
              "      <th>petal_length_cm</th>\n",
              "      <th>petal_width_cm</th>\n",
              "      <th>species</th>\n",
              "    </tr>\n",
              "  </thead>\n",
              "  <tbody>\n",
              "    <tr>\n",
              "      <th>0</th>\n",
              "      <td>0.222222</td>\n",
              "      <td>1.032057</td>\n",
              "      <td>1.4</td>\n",
              "      <td>0.2</td>\n",
              "      <td>setosa</td>\n",
              "    </tr>\n",
              "    <tr>\n",
              "      <th>1</th>\n",
              "      <td>0.166667</td>\n",
              "      <td>-0.124958</td>\n",
              "      <td>1.4</td>\n",
              "      <td>0.2</td>\n",
              "      <td>setosa</td>\n",
              "    </tr>\n",
              "    <tr>\n",
              "      <th>2</th>\n",
              "      <td>0.111111</td>\n",
              "      <td>0.337848</td>\n",
              "      <td>1.3</td>\n",
              "      <td>0.2</td>\n",
              "      <td>setosa</td>\n",
              "    </tr>\n",
              "    <tr>\n",
              "      <th>3</th>\n",
              "      <td>0.083333</td>\n",
              "      <td>0.106445</td>\n",
              "      <td>1.5</td>\n",
              "      <td>0.2</td>\n",
              "      <td>setosa</td>\n",
              "    </tr>\n",
              "    <tr>\n",
              "      <th>4</th>\n",
              "      <td>0.194444</td>\n",
              "      <td>1.263460</td>\n",
              "      <td>1.4</td>\n",
              "      <td>0.2</td>\n",
              "      <td>setosa</td>\n",
              "    </tr>\n",
              "    <tr>\n",
              "      <th>...</th>\n",
              "      <td>...</td>\n",
              "      <td>...</td>\n",
              "      <td>...</td>\n",
              "      <td>...</td>\n",
              "      <td>...</td>\n",
              "    </tr>\n",
              "    <tr>\n",
              "      <th>145</th>\n",
              "      <td>0.666667</td>\n",
              "      <td>-0.124958</td>\n",
              "      <td>5.2</td>\n",
              "      <td>2.3</td>\n",
              "      <td>virginica</td>\n",
              "    </tr>\n",
              "    <tr>\n",
              "      <th>146</th>\n",
              "      <td>0.555556</td>\n",
              "      <td>-1.281972</td>\n",
              "      <td>5.0</td>\n",
              "      <td>1.9</td>\n",
              "      <td>virginica</td>\n",
              "    </tr>\n",
              "    <tr>\n",
              "      <th>147</th>\n",
              "      <td>0.611111</td>\n",
              "      <td>-0.124958</td>\n",
              "      <td>5.2</td>\n",
              "      <td>2.0</td>\n",
              "      <td>virginica</td>\n",
              "    </tr>\n",
              "    <tr>\n",
              "      <th>148</th>\n",
              "      <td>0.527778</td>\n",
              "      <td>0.800654</td>\n",
              "      <td>5.4</td>\n",
              "      <td>2.3</td>\n",
              "      <td>virginica</td>\n",
              "    </tr>\n",
              "    <tr>\n",
              "      <th>149</th>\n",
              "      <td>0.444444</td>\n",
              "      <td>-0.124958</td>\n",
              "      <td>5.1</td>\n",
              "      <td>1.8</td>\n",
              "      <td>virginica</td>\n",
              "    </tr>\n",
              "  </tbody>\n",
              "</table>\n",
              "<p>150 rows × 5 columns</p>\n",
              "</div>\n",
              "    <div class=\"colab-df-buttons\">\n",
              "\n",
              "  <div class=\"colab-df-container\">\n",
              "    <button class=\"colab-df-convert\" onclick=\"convertToInteractive('df-8bc24c33-0352-409b-82fc-6ae7ddbd3b44')\"\n",
              "            title=\"Convert this dataframe to an interactive table.\"\n",
              "            style=\"display:none;\">\n",
              "\n",
              "  <svg xmlns=\"http://www.w3.org/2000/svg\" height=\"24px\" viewBox=\"0 -960 960 960\">\n",
              "    <path d=\"M120-120v-720h720v720H120Zm60-500h600v-160H180v160Zm220 220h160v-160H400v160Zm0 220h160v-160H400v160ZM180-400h160v-160H180v160Zm440 0h160v-160H620v160ZM180-180h160v-160H180v160Zm440 0h160v-160H620v160Z\"/>\n",
              "  </svg>\n",
              "    </button>\n",
              "\n",
              "  <style>\n",
              "    .colab-df-container {\n",
              "      display:flex;\n",
              "      gap: 12px;\n",
              "    }\n",
              "\n",
              "    .colab-df-convert {\n",
              "      background-color: #E8F0FE;\n",
              "      border: none;\n",
              "      border-radius: 50%;\n",
              "      cursor: pointer;\n",
              "      display: none;\n",
              "      fill: #1967D2;\n",
              "      height: 32px;\n",
              "      padding: 0 0 0 0;\n",
              "      width: 32px;\n",
              "    }\n",
              "\n",
              "    .colab-df-convert:hover {\n",
              "      background-color: #E2EBFA;\n",
              "      box-shadow: 0px 1px 2px rgba(60, 64, 67, 0.3), 0px 1px 3px 1px rgba(60, 64, 67, 0.15);\n",
              "      fill: #174EA6;\n",
              "    }\n",
              "\n",
              "    .colab-df-buttons div {\n",
              "      margin-bottom: 4px;\n",
              "    }\n",
              "\n",
              "    [theme=dark] .colab-df-convert {\n",
              "      background-color: #3B4455;\n",
              "      fill: #D2E3FC;\n",
              "    }\n",
              "\n",
              "    [theme=dark] .colab-df-convert:hover {\n",
              "      background-color: #434B5C;\n",
              "      box-shadow: 0px 1px 3px 1px rgba(0, 0, 0, 0.15);\n",
              "      filter: drop-shadow(0px 1px 2px rgba(0, 0, 0, 0.3));\n",
              "      fill: #FFFFFF;\n",
              "    }\n",
              "  </style>\n",
              "\n",
              "    <script>\n",
              "      const buttonEl =\n",
              "        document.querySelector('#df-8bc24c33-0352-409b-82fc-6ae7ddbd3b44 button.colab-df-convert');\n",
              "      buttonEl.style.display =\n",
              "        google.colab.kernel.accessAllowed ? 'block' : 'none';\n",
              "\n",
              "      async function convertToInteractive(key) {\n",
              "        const element = document.querySelector('#df-8bc24c33-0352-409b-82fc-6ae7ddbd3b44');\n",
              "        const dataTable =\n",
              "          await google.colab.kernel.invokeFunction('convertToInteractive',\n",
              "                                                    [key], {});\n",
              "        if (!dataTable) return;\n",
              "\n",
              "        const docLinkHtml = 'Like what you see? Visit the ' +\n",
              "          '<a target=\"_blank\" href=https://colab.research.google.com/notebooks/data_table.ipynb>data table notebook</a>'\n",
              "          + ' to learn more about interactive tables.';\n",
              "        element.innerHTML = '';\n",
              "        dataTable['output_type'] = 'display_data';\n",
              "        await google.colab.output.renderOutput(dataTable, element);\n",
              "        const docLink = document.createElement('div');\n",
              "        docLink.innerHTML = docLinkHtml;\n",
              "        element.appendChild(docLink);\n",
              "      }\n",
              "    </script>\n",
              "  </div>\n",
              "\n",
              "\n",
              "<div id=\"df-27a1e1c3-bd07-4e45-bae7-ba3500075266\">\n",
              "  <button class=\"colab-df-quickchart\" onclick=\"quickchart('df-27a1e1c3-bd07-4e45-bae7-ba3500075266')\"\n",
              "            title=\"Suggest charts\"\n",
              "            style=\"display:none;\">\n",
              "\n",
              "<svg xmlns=\"http://www.w3.org/2000/svg\" height=\"24px\"viewBox=\"0 0 24 24\"\n",
              "     width=\"24px\">\n",
              "    <g>\n",
              "        <path d=\"M19 3H5c-1.1 0-2 .9-2 2v14c0 1.1.9 2 2 2h14c1.1 0 2-.9 2-2V5c0-1.1-.9-2-2-2zM9 17H7v-7h2v7zm4 0h-2V7h2v10zm4 0h-2v-4h2v4z\"/>\n",
              "    </g>\n",
              "</svg>\n",
              "  </button>\n",
              "\n",
              "<style>\n",
              "  .colab-df-quickchart {\n",
              "      --bg-color: #E8F0FE;\n",
              "      --fill-color: #1967D2;\n",
              "      --hover-bg-color: #E2EBFA;\n",
              "      --hover-fill-color: #174EA6;\n",
              "      --disabled-fill-color: #AAA;\n",
              "      --disabled-bg-color: #DDD;\n",
              "  }\n",
              "\n",
              "  [theme=dark] .colab-df-quickchart {\n",
              "      --bg-color: #3B4455;\n",
              "      --fill-color: #D2E3FC;\n",
              "      --hover-bg-color: #434B5C;\n",
              "      --hover-fill-color: #FFFFFF;\n",
              "      --disabled-bg-color: #3B4455;\n",
              "      --disabled-fill-color: #666;\n",
              "  }\n",
              "\n",
              "  .colab-df-quickchart {\n",
              "    background-color: var(--bg-color);\n",
              "    border: none;\n",
              "    border-radius: 50%;\n",
              "    cursor: pointer;\n",
              "    display: none;\n",
              "    fill: var(--fill-color);\n",
              "    height: 32px;\n",
              "    padding: 0;\n",
              "    width: 32px;\n",
              "  }\n",
              "\n",
              "  .colab-df-quickchart:hover {\n",
              "    background-color: var(--hover-bg-color);\n",
              "    box-shadow: 0 1px 2px rgba(60, 64, 67, 0.3), 0 1px 3px 1px rgba(60, 64, 67, 0.15);\n",
              "    fill: var(--button-hover-fill-color);\n",
              "  }\n",
              "\n",
              "  .colab-df-quickchart-complete:disabled,\n",
              "  .colab-df-quickchart-complete:disabled:hover {\n",
              "    background-color: var(--disabled-bg-color);\n",
              "    fill: var(--disabled-fill-color);\n",
              "    box-shadow: none;\n",
              "  }\n",
              "\n",
              "  .colab-df-spinner {\n",
              "    border: 2px solid var(--fill-color);\n",
              "    border-color: transparent;\n",
              "    border-bottom-color: var(--fill-color);\n",
              "    animation:\n",
              "      spin 1s steps(1) infinite;\n",
              "  }\n",
              "\n",
              "  @keyframes spin {\n",
              "    0% {\n",
              "      border-color: transparent;\n",
              "      border-bottom-color: var(--fill-color);\n",
              "      border-left-color: var(--fill-color);\n",
              "    }\n",
              "    20% {\n",
              "      border-color: transparent;\n",
              "      border-left-color: var(--fill-color);\n",
              "      border-top-color: var(--fill-color);\n",
              "    }\n",
              "    30% {\n",
              "      border-color: transparent;\n",
              "      border-left-color: var(--fill-color);\n",
              "      border-top-color: var(--fill-color);\n",
              "      border-right-color: var(--fill-color);\n",
              "    }\n",
              "    40% {\n",
              "      border-color: transparent;\n",
              "      border-right-color: var(--fill-color);\n",
              "      border-top-color: var(--fill-color);\n",
              "    }\n",
              "    60% {\n",
              "      border-color: transparent;\n",
              "      border-right-color: var(--fill-color);\n",
              "    }\n",
              "    80% {\n",
              "      border-color: transparent;\n",
              "      border-right-color: var(--fill-color);\n",
              "      border-bottom-color: var(--fill-color);\n",
              "    }\n",
              "    90% {\n",
              "      border-color: transparent;\n",
              "      border-bottom-color: var(--fill-color);\n",
              "    }\n",
              "  }\n",
              "</style>\n",
              "\n",
              "  <script>\n",
              "    async function quickchart(key) {\n",
              "      const quickchartButtonEl =\n",
              "        document.querySelector('#' + key + ' button');\n",
              "      quickchartButtonEl.disabled = true;  // To prevent multiple clicks.\n",
              "      quickchartButtonEl.classList.add('colab-df-spinner');\n",
              "      try {\n",
              "        const charts = await google.colab.kernel.invokeFunction(\n",
              "            'suggestCharts', [key], {});\n",
              "      } catch (error) {\n",
              "        console.error('Error during call to suggestCharts:', error);\n",
              "      }\n",
              "      quickchartButtonEl.classList.remove('colab-df-spinner');\n",
              "      quickchartButtonEl.classList.add('colab-df-quickchart-complete');\n",
              "    }\n",
              "    (() => {\n",
              "      let quickchartButtonEl =\n",
              "        document.querySelector('#df-27a1e1c3-bd07-4e45-bae7-ba3500075266 button');\n",
              "      quickchartButtonEl.style.display =\n",
              "        google.colab.kernel.accessAllowed ? 'block' : 'none';\n",
              "    })();\n",
              "  </script>\n",
              "</div>\n",
              "    </div>\n",
              "  </div>\n"
            ],
            "application/vnd.google.colaboratory.intrinsic+json": {
              "type": "dataframe",
              "variable_name": "dataframe",
              "summary": "{\n  \"name\": \"dataframe\",\n  \"rows\": 150,\n  \"fields\": [\n    {\n      \"column\": \"sepal_length_cm\",\n      \"properties\": {\n        \"dtype\": \"number\",\n        \"std\": 0.23001836888273966,\n        \"min\": 0.0,\n        \"max\": 1.0,\n        \"num_unique_values\": 35,\n        \"samples\": [\n          0.5277777777777779,\n          0.05555555555555558,\n          0.36111111111111094\n        ],\n        \"semantic_type\": \"\",\n        \"description\": \"\"\n      }\n    },\n    {\n      \"column\": \"sepal_width_cm\",\n      \"properties\": {\n        \"dtype\": \"number\",\n        \"std\": 1.0033500931359767,\n        \"min\": -2.438987252491841,\n        \"max\": 3.1146839106774356,\n        \"num_unique_values\": 23,\n        \"samples\": [\n          -1.7447783570956819,\n          2.1890720501492225,\n          1.0320572244889565\n        ],\n        \"semantic_type\": \"\",\n        \"description\": \"\"\n      }\n    },\n    {\n      \"column\": \"petal_length_cm\",\n      \"properties\": {\n        \"dtype\": \"number\",\n        \"std\": 1.7644204199522617,\n        \"min\": 1.0,\n        \"max\": 6.9,\n        \"num_unique_values\": 43,\n        \"samples\": [\n          6.7,\n          3.8,\n          3.7\n        ],\n        \"semantic_type\": \"\",\n        \"description\": \"\"\n      }\n    },\n    {\n      \"column\": \"petal_width_cm\",\n      \"properties\": {\n        \"dtype\": \"number\",\n        \"std\": 0.7631607417008414,\n        \"min\": 0.1,\n        \"max\": 2.5,\n        \"num_unique_values\": 22,\n        \"samples\": [\n          0.2,\n          1.2,\n          1.3\n        ],\n        \"semantic_type\": \"\",\n        \"description\": \"\"\n      }\n    },\n    {\n      \"column\": \"species\",\n      \"properties\": {\n        \"dtype\": \"category\",\n        \"num_unique_values\": 3,\n        \"samples\": [\n          \"setosa\",\n          \"versicolor\",\n          \"virginica\"\n        ],\n        \"semantic_type\": \"\",\n        \"description\": \"\"\n      }\n    }\n  ]\n}"
            }
          },
          "metadata": {},
          "execution_count": 20
        }
      ]
    }
  ]
}